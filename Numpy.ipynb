{
  "nbformat": 4,
  "nbformat_minor": 0,
  "metadata": {
    "colab": {
      "provenance": [],
      "authorship_tag": "ABX9TyPFhJDGv0xIpfGsRja2Oiax",
      "include_colab_link": true
    },
    "kernelspec": {
      "name": "python3",
      "display_name": "Python 3"
    },
    "language_info": {
      "name": "python"
    }
  },
  "cells": [
    {
      "cell_type": "markdown",
      "metadata": {
        "id": "view-in-github",
        "colab_type": "text"
      },
      "source": [
        "<a href=\"https://colab.research.google.com/github/BenCoder302/Google-Colab/blob/main/Numpy.ipynb\" target=\"_parent\"><img src=\"https://colab.research.google.com/assets/colab-badge.svg\" alt=\"Open In Colab\"/></a>"
      ]
    },
    {
      "cell_type": "markdown",
      "source": [
        "## Numpy Basics"
      ],
      "metadata": {
        "id": "cpO83EnBVRmc"
      }
    },
    {
      "cell_type": "code",
      "source": [
        "import numpy as np\n",
        "print(np.__version__)"
      ],
      "metadata": {
        "colab": {
          "base_uri": "https://localhost:8080/"
        },
        "id": "8_pI_oojOcsX",
        "outputId": "3971b8f8-ba16-4dbf-f683-43b5e1ec4d53"
      },
      "execution_count": 5,
      "outputs": [
        {
          "output_type": "stream",
          "name": "stdout",
          "text": [
            "1.23.5\n"
          ]
        }
      ]
    },
    {
      "cell_type": "code",
      "source": [
        "a = np.array([1, 2, 3]) # 1-D array\n",
        "print(a)\n",
        "print(a.shape) # Returns a tuple\n",
        "print(a.dtype) # Returns data type\n",
        "print(a.ndim) # Returns dimensions of array\n",
        "print(a.size) # Returns no. of elements\n",
        "print(a.itemsize) # Returns sie of each element"
      ],
      "metadata": {
        "colab": {
          "base_uri": "https://localhost:8080/"
        },
        "id": "_Fbx45h8PLAt",
        "outputId": "a601b711-389e-4b31-d0ba-0dd05d9c8c9a"
      },
      "execution_count": 6,
      "outputs": [
        {
          "output_type": "stream",
          "name": "stdout",
          "text": [
            "[1 2 3]\n",
            "(3,)\n",
            "int64\n",
            "1\n",
            "3\n",
            "8\n"
          ]
        }
      ]
    },
    {
      "cell_type": "code",
      "source": [
        "print(a[0]) # Accessing elements\n",
        "a[0] = 10 # Modifing elements\n",
        "print(a)"
      ],
      "metadata": {
        "colab": {
          "base_uri": "https://localhost:8080/"
        },
        "id": "F4SYhMu0REzq",
        "outputId": "3a641e88-d581-4773-d142-8660b8b1969f"
      },
      "execution_count": 7,
      "outputs": [
        {
          "output_type": "stream",
          "name": "stdout",
          "text": [
            "1\n",
            "[10  2  3]\n"
          ]
        }
      ]
    },
    {
      "cell_type": "code",
      "source": [
        "b = a * np.array([2, 0, 2])\n",
        "print(b)"
      ],
      "metadata": {
        "colab": {
          "base_uri": "https://localhost:8080/"
        },
        "id": "s1QGzh1eRrhC",
        "outputId": "25dbe91c-9404-4ef0-a3d9-ef0f37d1f815"
      },
      "execution_count": 8,
      "outputs": [
        {
          "output_type": "stream",
          "name": "stdout",
          "text": [
            "[20  0  6]\n"
          ]
        }
      ]
    },
    {
      "cell_type": "markdown",
      "source": [
        "## Lists vs np_arrays\n",
        "Opertions in numpy arrays wrok element-wise"
      ],
      "metadata": {
        "id": "__HV7qr_UcmC"
      }
    },
    {
      "cell_type": "markdown",
      "source": [
        "# Addition"
      ],
      "metadata": {
        "id": "gyhsH3OTUhZ9"
      }
    },
    {
      "cell_type": "code",
      "source": [
        "l = [1, 2, 3]\n",
        "l = l +  [4]\n",
        "print(l)\n",
        "\n",
        "a = np.array([1, 2, 3])\n",
        "a = a + np.array([4]) # Equivalent to a = a + np.array([4, 4, 4])\n",
        "print(a)"
      ],
      "metadata": {
        "colab": {
          "base_uri": "https://localhost:8080/"
        },
        "id": "S-rAGcVgSIVj",
        "outputId": "b062f072-65dc-4fe2-9441-7d9529a9b189"
      },
      "execution_count": 9,
      "outputs": [
        {
          "output_type": "stream",
          "name": "stdout",
          "text": [
            "[1, 2, 3, 4]\n",
            "[5 6 7]\n"
          ]
        }
      ]
    },
    {
      "cell_type": "markdown",
      "source": [
        "# Multiplication"
      ],
      "metadata": {
        "id": "AKyEbGl0UkXv"
      }
    },
    {
      "cell_type": "code",
      "source": [
        "l = [1, 2, 3]\n",
        "l = l * 2\n",
        "print(l)\n",
        "\n",
        "a = np.array([1, 2, 3])\n",
        "a = a * 2\n",
        "print(a)"
      ],
      "metadata": {
        "id": "i-ZQ2YmuUmlQ",
        "outputId": "16f0e0ca-0986-4a9d-b00d-663d06d5b8c2",
        "colab": {
          "base_uri": "https://localhost:8080/"
        }
      },
      "execution_count": 10,
      "outputs": [
        {
          "output_type": "stream",
          "name": "stdout",
          "text": [
            "[1, 2, 3, 1, 2, 3]\n",
            "[2 4 6]\n"
          ]
        }
      ]
    }
  ]
}