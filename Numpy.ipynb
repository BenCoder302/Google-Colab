{
  "nbformat": 4,
  "nbformat_minor": 0,
  "metadata": {
    "colab": {
      "provenance": [],
      "authorship_tag": "ABX9TyNtrTBRD7oJWkXvlV1vBTOq",
      "include_colab_link": true
    },
    "kernelspec": {
      "name": "python3",
      "display_name": "Python 3"
    },
    "language_info": {
      "name": "python"
    }
  },
  "cells": [
    {
      "cell_type": "markdown",
      "metadata": {
        "id": "view-in-github",
        "colab_type": "text"
      },
      "source": [
        "<a href=\"https://colab.research.google.com/github/BenCoder302/Google-Colab/blob/main/Numpy.ipynb\" target=\"_parent\"><img src=\"https://colab.research.google.com/assets/colab-badge.svg\" alt=\"Open In Colab\"/></a>"
      ]
    },
    {
      "cell_type": "code",
      "source": [
        "import numpy as np\n",
        "print(np.__version__)"
      ],
      "metadata": {
        "colab": {
          "base_uri": "https://localhost:8080/"
        },
        "id": "8_pI_oojOcsX",
        "outputId": "89ed3236-60c3-4f57-aec4-8349bfd178d9"
      },
      "execution_count": 1,
      "outputs": [
        {
          "output_type": "stream",
          "name": "stdout",
          "text": [
            "1.23.5\n"
          ]
        }
      ]
    },
    {
      "cell_type": "code",
      "source": [
        "a = np.array([1, 2, 3]) # 1-D array\n",
        "print(a)\n",
        "print(a.shape) # Returns a tuple\n",
        "print(a.dtype) # Returns data type\n",
        "print(a.ndim) # Returns dimensions of array\n",
        "print(a.size) # Returns no. of elements\n",
        "print(a.itemsize) # Returns sie of each element"
      ],
      "metadata": {
        "colab": {
          "base_uri": "https://localhost:8080/"
        },
        "id": "_Fbx45h8PLAt",
        "outputId": "3dced1b5-a508-4abc-eab9-d951f7d61896"
      },
      "execution_count": 2,
      "outputs": [
        {
          "output_type": "stream",
          "name": "stdout",
          "text": [
            "[1 2 3]\n",
            "(3,)\n",
            "int64\n",
            "1\n",
            "3\n",
            "8\n"
          ]
        }
      ]
    },
    {
      "cell_type": "code",
      "source": [
        "print(a[0]) # Accessing elements\n",
        "a[0] = 10 # Modifing elements\n",
        "print(a)"
      ],
      "metadata": {
        "colab": {
          "base_uri": "https://localhost:8080/"
        },
        "id": "F4SYhMu0REzq",
        "outputId": "5b5b1405-e94d-430f-a803-58993dbb617d"
      },
      "execution_count": 3,
      "outputs": [
        {
          "output_type": "stream",
          "name": "stdout",
          "text": [
            "1\n",
            "[10  2  3]\n"
          ]
        }
      ]
    },
    {
      "cell_type": "code",
      "source": [
        "b = a * np.array([2, 0, 2])\n",
        "print(b)"
      ],
      "metadata": {
        "colab": {
          "base_uri": "https://localhost:8080/"
        },
        "id": "s1QGzh1eRrhC",
        "outputId": "a89edf81-ffa3-469f-8764-3e698247f143"
      },
      "execution_count": 4,
      "outputs": [
        {
          "output_type": "stream",
          "name": "stdout",
          "text": [
            "[20  0  6]\n"
          ]
        }
      ]
    },
    {
      "cell_type": "code",
      "source": [
        "# Lists v np_arrays\n",
        "l = [1, 2, 3]\n",
        "l = l +  [4]\n",
        "print(l)\n",
        "\n",
        "a = np.array([1, 2, 3])\n",
        "a = a + np.array([4]) # Equivalent to a = a + np.array([4, 4, 4])\n",
        "print(a)"
      ],
      "metadata": {
        "colab": {
          "base_uri": "https://localhost:8080/"
        },
        "id": "S-rAGcVgSIVj",
        "outputId": "ae0d506b-6001-4683-ba2c-492acaedee4d"
      },
      "execution_count": 5,
      "outputs": [
        {
          "output_type": "stream",
          "name": "stdout",
          "text": [
            "[1, 2, 3, 4]\n",
            "[5 6 7]\n"
          ]
        }
      ]
    }
  ]
}